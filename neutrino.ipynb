{
 "cells": [
  {
   "cell_type": "markdown",
   "metadata": {},
   "source": [
    "# Neutrino event classification\n",
    "\n",
    "This mini-project's dataset is comprised of a number of small files containing images of simulated neutrino interactions in a hypothetical detector that looks an awful lot like the detectors of the NOvA experiment. For each neutrino interaction the images consist of two $100 \\times 80$ pixel images that represent the $x \\times z$ and $y \\times z$ projections of the tracks of particles in the detector.\n",
    "\n",
    "The data for this mini-project comes in the form of the following files:\n",
    "\n",
    "| File | Description |\n",
    "| ----------- | ----------- |\n",
    "| neutrino1.h5 | The 1st HDF5 file containing event images and meta deta |\n",
    "| $\\vdots$ | The middle ones |\n",
    "| neutrino200.h5| The 200th HDF5 file|\n",
    "\n",
    "\n",
    "The images show the energy deposited by simulated neutrinos in a NOvA like detector. Some of the meta information in the hdf5 file is described below\n",
    "\n",
    "| Label | Description |\n",
    "| ----------- | ----------- |\n",
    "| neutrino/nuenergy | Neutrino Energy (GeV) |\n",
    "| neutrino/lepenergy | Lepton Energy (GeV) |\n",
    "| neutrino/finalstate | Interaction |\n",
    "| neutrino/finalstate | Final State |\n",
    " \n",
    "\n",
    "The [PDG code](https://pdg.lbl.gov/2019/reviews/rpp2019-rev-monte-carlo-numbering.pdf) is a number which identifies the particle type (e.g electron=11, electron-neutrino=12, etc.)\n",
    "\n",
    "The $interaction$ says what kind of interaction occured and is defined in the enumeration below.\n",
    "\n",
    "## Machine learning tasks\n",
    "1. Develop a machine learning classifier that can successfully identify $\\nu_\\mu$ charged-current events\n",
    "2. Test your machine learning classifier and investigate how the efficiency of the classifier depends on the meta data variables shown above\n",
    "\n",
    "### Potential extensions\n",
    "1. Write a machine learning algorithm to determine the energy of the neutrino\n",
    "2. Write a machine learning algorithm to determine the flavour of the neutrino\n",
    "3. Write a machine learning algorithm to determine $y=$ lepton energy over neutrino energy\n",
    "4. Write a machine learning algorithm to determine the number of protons or pions\n",
    "5. Write a machine learning algorithm to determine the interaction mode.\n",
    "\n",
    "\n"
   ]
  },
  {
   "cell_type": "code",
   "execution_count": 1,
   "metadata": {},
   "outputs": [],
   "source": [
    "#imports\n",
    "\n",
    "import h5py\n",
    "import numpy as np\n",
    "import matplotlib.pyplot as plt \n",
    "import pandas as pd\n",
    "\n",
    "import tensorflow as tf\n",
    "from tensorflow import keras\n",
    "\n",
    "from sklearn.model_selection import train_test_split\n",
    "from sklearn.metrics import confusion_matrix\n",
    "from sklearn.metrics import matthews_corrcoef"
   ]
  },
  {
   "cell_type": "code",
   "execution_count": 2,
   "metadata": {},
   "outputs": [],
   "source": [
    "import enum \n",
    "class Interaction(enum.Enum):\n",
    "    kNumuQE =0           # Numu CC QE interaction\n",
    "    kNumuRes =1           # Numu CC Resonant interaction\n",
    "    kNumuDIS = 2          # Numu CC DIS interaction\n",
    "    kNumuOther = 3        # Numu CC, other than above\n",
    "    kNueQE = 4            # Nue CC QE interaction\n",
    "    kNueRes = 5           # Nue CC Resonant interaction\n",
    "    kNueDIS = 6           # Nue CC DIS interaction\n",
    "    kNueOther = 7         # Nue CC, other than above\n",
    "    kNutauQE = 8          # Nutau CC QE interaction\n",
    "    kNutauRes = 9         # Nutau CC Resonant interaction\n",
    "    kNutauDIS =10         # Nutau CC DIS interaction\n",
    "    kNutauOther =11       # Nutau CC, other than above\n",
    "    kNuElectronElastic = 12# NC Nu On E Scattering\n",
    "    kNC =13                # NC interaction\n",
    "    kCosmic =14           # Cosmic ray background\n",
    "    kOther =15            # Something else.  Tau?  Hopefully we don't use this\n",
    "    kNIntType=16          # Number of interaction types, used like a vector size\n",
    "\n",
    "    \n",
    "class FinalState(enum.Enum):\n",
    "    kNumu0tr0sh=0          # Numu CC - no track no shower\n",
    "    kNumu0tr1sh=1          # Numu CC - no track  1 shower\n",
    "    kNumu0tr2sh=enum.auto()          # Numu CC - no track  2 shower\n",
    "    kNumu0trMsh=enum.auto()          # Numu CC - no track 3+ shower\n",
    "    kNumu1tr0sh=enum.auto()          # Numu CC -  1 track no shower\n",
    "    kNumu1tr1sh=enum.auto()          # Numu CC -  1 track  1 shower\n",
    "    kNumu1tr2sh=enum.auto()          # Numu CC -  1 track  2 shower\n",
    "    kNumu1trMsh=enum.auto()          # Numu CC -  1 track 3+ shower\n",
    "    kNumu2tr0sh=enum.auto()          # Numu CC -  2 track no shower\n",
    "    kNumu2tr1sh=enum.auto()          # Numu CC -  2 track  1 shower\n",
    "    kNumu2tr2sh=enum.auto()          # Numu CC -  2 track  2 shower\n",
    "    kNumu2trMsh=enum.auto()          # Numu CC -  2 track 3+ shower\n",
    "    kNumuMtr0sh=enum.auto()          # Numu CC - 3+ track no showe\n",
    "    kNumuMtr1sh=enum.auto()          # Numu CC - 3+ track  1 shower\n",
    "    kNumuMtr2sh=enum.auto()          # Numu CC - 3+ track  2 showe\n",
    "    kNumuMtrMsh=enum.auto()          # Numu CC - 3+ track 3+ shower\n",
    "    kNue0tr0sh=enum.auto()           # Nue CC - no track no shower\n",
    "    kNue0tr1sh=enum.auto()           # Nue CC - no track  1 shower\n",
    "    kNue0tr2sh=enum.auto()           # Nue CC - no track  2 showe\n",
    "    kNue0trMsh=enum.auto()           # Nue CC - no track 3+ shower\n",
    "    kNue1tr0sh=enum.auto()           # Nue CC -  1 track no shower\n",
    "    kNue1tr1sh=enum.auto()           # Nue CC -  1 track  1 shower\n",
    "    kNue1tr2sh=enum.auto()           # Nue CC -  1 track  2 shower\n",
    "    kNue1trMsh=enum.auto()           # Nue CC -  1 track 3+ shower\n",
    "    kNue2tr0sh=enum.auto()           # Nue CC -  2 track no shower\n",
    "    kNue2tr1sh=enum.auto()           # Nue CC -  2 track  1 shower\n",
    "    kNue2tr2sh=enum.auto()           # Nue CC -  2 track  2 shower\n",
    "    kNue2trMsh=enum.auto()           # Nue CC -  2 track 3+ shower\n",
    "    kNueMtr0sh=enum.auto()           # Nue CC - 3+ track no shower\n",
    "    kNueMtr1sh=enum.auto()           # Nue CC - 3+ track  1 shower\n",
    "    kNueMtr2sh=enum.auto()           # Nue CC - 3+ track  2 shower\n",
    "    kNueMtrMsh=enum.auto()           # Nue CC - 3+ track 3+ shower\n",
    "    kNC0tr0sh=enum.auto()           # NC CC - no track no shower\n",
    "    kNC0tr1sh=enum.auto()           # NC CC - no track  1 shower\n",
    "    kNC0tr2sh=enum.auto()           # NC CC - no track  2 shower\n",
    "    kNC0trMsh=enum.auto()           # NC CC - no track 3+ shower\n",
    "    kNC1tr0sh=enum.auto()           # NC CC -  1 track no shower\n",
    "    kNC1tr1sh=enum.auto()           # NC CC -  1 track  1 shower\n",
    "    kNC1tr2sh=enum.auto()           # NC CC -  1 track  2 shower\n",
    "    kNC1trMsh=enum.auto()           # NC CC -  1 track 3+ shower\n",
    "    kNC2tr0sh=enum.auto()           # NC CC -  2 track no shower\n",
    "    kNC2tr1sh=enum.auto()           # NC CC -  2 track  1 shower\n",
    "    kNC2tr2sh=enum.auto()           # NC CC -  2 track  2 shower\n",
    "    kNC2trMsh=enum.auto()           # NC CC -  2 track 3+ shower\n",
    "    kNCMtr0sh=enum.auto()           # NC CC - 3+ track no shower\n",
    "    kNCMtr1sh=enum.auto()           # NC CC - 3+ track  1 shower\n",
    "    kNCMtr2sh=enum.auto()           # NC CC - 3+ track  2 shower\n",
    "    kNCMtrMsh=enum.auto()           # NC CC - 3+ track 3+ shower\n",
    "    kCosmicFS=enum.auto()           # Cosmic ray background\n",
    "    kOtherFS=enum.auto()            # Something else.  Tau?  Hopefully we don't use this\n",
    "    kNFStType=enum.auto()            # Number of interaction types, used like a vector size\n",
    "\n"
   ]
  },
  {
   "cell_type": "code",
   "execution_count": 3,
   "metadata": {},
   "outputs": [
    {
     "data": {
      "text/plain": [
       "h5py._hl.files.File"
      ]
     },
     "execution_count": 3,
     "metadata": {},
     "output_type": "execute_result"
    }
   ],
   "source": [
    "# import the urllib library\n",
    "import urllib.request\n",
    " \n",
    "# Copy a network object to a local file\n",
    "urllib.request.urlretrieve('http://www.hep.ucl.ac.uk/undergrad/0056/other/projects/nova/neutrino1.h5', \"neutrino1.h5\")\n",
    "\n",
    "#Open the local h5 file with h5py\n",
    "df=h5py.File('neutrino1.h5','r')\n",
    "type(df)"
   ]
  },
  {
   "cell_type": "code",
   "execution_count": 4,
   "metadata": {},
   "outputs": [
    {
     "name": "stdout",
     "output_type": "stream",
     "text": [
      "<KeysViewHDF5 ['cvnmap', 'neutrino']>\n",
      "<KeysViewHDF5 ['cycle', 'evt', 'finalstate', 'finalstateprong', 'interaction', 'lepenergy', 'nuenergy', 'parent', 'particles', 'rec.training.trainingdata_idx', 'run', 'subevt', 'subrun', 'vtxx', 'vtxy', 'vtxz']>\n",
      "(7001, 16000)\n",
      "<HDF5 dataset \"evt\": shape (7001, 1), type \"<u4\">\n"
     ]
    }
   ],
   "source": [
    "#Print the keys in the neutrino meta data\n",
    "print(df.keys())\n",
    "print(df['neutrino'].keys())\n",
    "\n",
    "#Get an numpy array containing the event image, and reshape it from flat to 2x100x80\n",
    "print(np.shape(df['cvnmap']))\n",
    "print(df['neutrino']['evt'])\n",
    "event0=np.array(df['cvnmap'][3]).reshape((2,100,80))"
   ]
  },
  {
   "cell_type": "code",
   "execution_count": 5,
   "metadata": {
    "scrolled": true
   },
   "outputs": [
    {
     "data": {
      "text/plain": [
       "<matplotlib.image.AxesImage at 0x7fc190c572d0>"
      ]
     },
     "execution_count": 5,
     "metadata": {},
     "output_type": "execute_result"
    },
    {
     "data": {
      "image/png": "[encoded data removed]",
      "text/plain": [
       "<Figure size 432x288 with 2 Axes>"
      ]
     },
     "metadata": {
      "needs_background": "light"
     },
     "output_type": "display_data"
    }
   ],
   "source": [
    "#Plot the first event, look it is a nice long muon track\n",
    "fig, ax = plt.subplots(1,2)\n",
    "ax[0].imshow(event0[1].T)\n",
    "ax[1].imshow(event0[0].T)"
   ]
  },
  {
   "cell_type": "code",
   "execution_count": 6,
   "metadata": {},
   "outputs": [
    {
     "data": {
      "text/plain": [
       "<matplotlib.image.AxesImage at 0x7fc1911623d0>"
      ]
     },
     "execution_count": 6,
     "metadata": {},
     "output_type": "execute_result"
    },
    {
     "data": {
      "image/png": "[encoded data removed]",
      "text/plain": [
       "<Figure size 432x288 with 2 Axes>"
      ]
     },
     "metadata": {
      "needs_background": "light"
     },
     "output_type": "display_data"
    }
   ],
   "source": [
    "event1=np.array(df['cvnmap'][4]).reshape((2,100,80))\n",
    "fig, ax = plt.subplots(1,2)\n",
    "ax[0].imshow(event1[1].T)\n",
    "ax[1].imshow(event1[0].T)"
   ]
  },
  {
   "cell_type": "code",
   "execution_count": 7,
   "metadata": {},
   "outputs": [
    {
     "name": "stdout",
     "output_type": "stream",
     "text": [
      "Neutrino Final State code [46]\n",
      "Interaction was  Interaction.kNC\n",
      "Neutrino energy [13.677229] GeV\n"
     ]
    }
   ],
   "source": [
    "print(\"Neutrino Final State code\",df['neutrino']['finalstate'][3])\n",
    "print(\"Interaction was \",Interaction(df['neutrino']['interaction'][3]))\n",
    "print(\"Neutrino energy\",df['neutrino']['nuenergy'][3],\"GeV\")"
   ]
  },
  {
   "cell_type": "code",
   "execution_count": 8,
   "metadata": {},
   "outputs": [
    {
     "data": {
      "text/plain": [
       "(array([3358., 1891., 1013.,  394.,  184.,   85.,   44.,   14.,    8.,\n",
       "          10.]),\n",
       " array([ 0.      ,  8.229538, 16.459076, 24.688614, 32.91815 , 41.14769 ,\n",
       "        49.377228, 57.606766, 65.8363  , 74.06584 , 82.29538 ],\n",
       "       dtype=float32),\n",
       " <a list of 10 Patch objects>)"
      ]
     },
     "execution_count": 8,
     "metadata": {},
     "output_type": "execute_result"
    },
    {
     "data": {
      "image/png": "[encoded data removed]",
      "text/plain": [
       "<Figure size 432x288 with 1 Axes>"
      ]
     },
     "metadata": {
      "needs_background": "light"
     },
     "output_type": "display_data"
    }
   ],
   "source": [
    "fs=np.array(df['neutrino']['finalstate'])\n",
    "nuenergy=np.array(df['neutrino']['nuenergy'])\n",
    "fig, ax = plt.subplots()\n",
    "ax.hist(nuenergy)"
   ]
  },
  {
   "cell_type": "markdown",
   "metadata": {},
   "source": [
    "## Preprocessing\n",
    "In this section, we gather the relevant images as well as the label data which we process it into a Pandas DataFrame object. \n",
    "\n",
    "**Tasks** \n",
    "* Write a function which creates a Pandas DataFrame from the label data\n",
    "* Write a function that collects the input images (this will be the input for the machine learning tasks). \n",
    "* Gather different files from the UCL website, apply the function defined above and concatenate to the master DataFrame.\n",
    "* Normalise the image scale. \n",
    "* Define a function which builds a neural network. "
   ]
  },
  {
   "cell_type": "markdown",
   "metadata": {},
   "source": [
    "### 1. Write a function that creates a Pandas DataFrame from the label data"
   ]
  },
  {
   "cell_type": "code",
   "execution_count": 9,
   "metadata": {},
   "outputs": [],
   "source": [
    "def toDF(df): \n",
    "   \n",
    "    #Get the labels or column names for our dataframe. This will always be the keys in the neutrino file. \n",
    "    labels = list(df['neutrino'].keys())\n",
    "    \n",
    "    \n",
    "    #create a dictionary with the label names for keys and the array of the data for each column as values. \n",
    "    d = {str(label) : np.array(df['neutrino'][str(label)]).T[0] for label in labels}\n",
    "    \n",
    "    #convert the dictionary to a pandas dataframe. \n",
    "    df = pd.DataFrame.from_dict(d)\n",
    "    \n",
    "    return df"
   ]
  },
  {
   "cell_type": "markdown",
   "metadata": {},
   "source": [
    "### 2. Write a function that collects the input images"
   ]
  },
  {
   "cell_type": "code",
   "execution_count": 10,
   "metadata": {},
   "outputs": [],
   "source": [
    "def getX(df): \n",
    "    \n",
    "    #create a numpy array from the images\n",
    "    input_array = np.array(df['cvnmap'])\n",
    "    \n",
    "    #Now we create our input array by changing the shape of the images from flat to 2*100*80\n",
    "    X = input_array.reshape(input_array.shape[0], 2,100,80)\n",
    "    X1 = X[:,0].reshape(input_array.shape[0],100, 80,1)\n",
    "    X2 = X[:,1].reshape(input_array.shape[0],100, 80,1)\n",
    "    X = np.concatenate([X1,X2], axis=3)\n",
    "\n",
    "    return X \n",
    "    \n",
    "    \n",
    "    "
   ]
  },
  {
   "cell_type": "markdown",
   "metadata": {},
   "source": [
    "### 3. Gather different files from the UCL website and append them to a master DataFrame"
   ]
  },
  {
   "cell_type": "code",
   "execution_count": 11,
   "metadata": {},
   "outputs": [
    {
     "name": "stdout",
     "output_type": "stream",
     "text": [
      "Done: 1/9\n",
      "Done: 2/9\n",
      "Done: 3/9\n",
      "Done: 4/9\n",
      "Done: 5/9\n",
      "Done: 6/9\n",
      "Done: 7/9\n",
      "Done: 8/9\n",
      "Done: 9/9\n"
     ]
    }
   ],
   "source": [
    "\n",
    "#empty label df \n",
    "label_df = pd.DataFrame()\n",
    "\n",
    "#empty input array\n",
    "X = np.zeros((0, 100,80,2))\n",
    "\n",
    "for filenum in range(1,10):\n",
    "    \n",
    "    #gather the different files from the UCL website\n",
    "    urllib.request.urlretrieve('http://www.hep.ucl.ac.uk/undergrad/0056/other/projects/nova/neutrino'+str(filenum)+'.h5', 'neutrino'+str(filenum)+'.h5')\n",
    "    df = h5py.File('neutrino'+ str(filenum)+'.h5','r')\n",
    "    \n",
    "    #get the input features\n",
    "    inputs = getX(df)\n",
    "    X = np.concatenate([X, inputs], axis = 0)\n",
    "    \n",
    "    #convert the feature file into a pandas df\n",
    "    df = toDF(df)\n",
    "    \n",
    "    #append it to the label dataframe\n",
    "    label_df= label_df.append(df)\n",
    "    \n",
    "    print('Done: {}/9'.format(filenum))"
   ]
  },
  {
   "cell_type": "code",
   "execution_count": 12,
   "metadata": {},
   "outputs": [
    {
     "data": {
      "text/html": [
       "<div>\n",
       "<style scoped>\n",
       "    .dataframe tbody tr th:only-of-type {\n",
       "        vertical-align: middle;\n",
       "    }\n",
       "\n",
       "    .dataframe tbody tr th {\n",
       "        vertical-align: top;\n",
       "    }\n",
       "\n",
       "    .dataframe thead th {\n",
       "        text-align: right;\n",
       "    }\n",
       "</style>\n",
       "<table border=\"1\" class=\"dataframe\">\n",
       "  <thead>\n",
       "    <tr style=\"text-align: right;\">\n",
       "      <th></th>\n",
       "      <th>cycle</th>\n",
       "      <th>evt</th>\n",
       "      <th>finalstate</th>\n",
       "      <th>finalstateprong</th>\n",
       "      <th>interaction</th>\n",
       "      <th>lepenergy</th>\n",
       "      <th>nuenergy</th>\n",
       "      <th>parent</th>\n",
       "      <th>particles</th>\n",
       "      <th>rec.training.trainingdata_idx</th>\n",
       "      <th>run</th>\n",
       "      <th>subevt</th>\n",
       "      <th>subrun</th>\n",
       "      <th>vtxx</th>\n",
       "      <th>vtxy</th>\n",
       "      <th>vtxz</th>\n",
       "    </tr>\n",
       "  </thead>\n",
       "  <tbody>\n",
       "    <tr>\n",
       "      <th>0</th>\n",
       "      <td>15</td>\n",
       "      <td>1</td>\n",
       "      <td>8</td>\n",
       "      <td>1</td>\n",
       "      <td>0</td>\n",
       "      <td>32.837307</td>\n",
       "      <td>33.076805</td>\n",
       "      <td>1</td>\n",
       "      <td>23</td>\n",
       "      <td>0</td>\n",
       "      <td>12053</td>\n",
       "      <td>1</td>\n",
       "      <td>0</td>\n",
       "      <td>-76.117852</td>\n",
       "      <td>311.595491</td>\n",
       "      <td>-1757.971398</td>\n",
       "    </tr>\n",
       "    <tr>\n",
       "      <th>1</th>\n",
       "      <td>15</td>\n",
       "      <td>1</td>\n",
       "      <td>12</td>\n",
       "      <td>3</td>\n",
       "      <td>2</td>\n",
       "      <td>0.986411</td>\n",
       "      <td>6.852915</td>\n",
       "      <td>1</td>\n",
       "      <td>33</td>\n",
       "      <td>0</td>\n",
       "      <td>12053</td>\n",
       "      <td>2</td>\n",
       "      <td>0</td>\n",
       "      <td>376.344346</td>\n",
       "      <td>232.187717</td>\n",
       "      <td>389.125703</td>\n",
       "    </tr>\n",
       "    <tr>\n",
       "      <th>2</th>\n",
       "      <td>15</td>\n",
       "      <td>1</td>\n",
       "      <td>13</td>\n",
       "      <td>3</td>\n",
       "      <td>2</td>\n",
       "      <td>0.631563</td>\n",
       "      <td>1.641000</td>\n",
       "      <td>0</td>\n",
       "      <td>23</td>\n",
       "      <td>0</td>\n",
       "      <td>12053</td>\n",
       "      <td>3</td>\n",
       "      <td>0</td>\n",
       "      <td>47.172435</td>\n",
       "      <td>-161.841829</td>\n",
       "      <td>871.827338</td>\n",
       "    </tr>\n",
       "    <tr>\n",
       "      <th>3</th>\n",
       "      <td>15</td>\n",
       "      <td>1</td>\n",
       "      <td>46</td>\n",
       "      <td>11</td>\n",
       "      <td>13</td>\n",
       "      <td>2.768984</td>\n",
       "      <td>13.677229</td>\n",
       "      <td>4</td>\n",
       "      <td>70</td>\n",
       "      <td>0</td>\n",
       "      <td>12053</td>\n",
       "      <td>5</td>\n",
       "      <td>0</td>\n",
       "      <td>28.927787</td>\n",
       "      <td>128.163077</td>\n",
       "      <td>726.942543</td>\n",
       "    </tr>\n",
       "    <tr>\n",
       "      <th>4</th>\n",
       "      <td>15</td>\n",
       "      <td>1</td>\n",
       "      <td>49</td>\n",
       "      <td>13</td>\n",
       "      <td>0</td>\n",
       "      <td>1.848964</td>\n",
       "      <td>1.892379</td>\n",
       "      <td>0</td>\n",
       "      <td>270</td>\n",
       "      <td>0</td>\n",
       "      <td>12053</td>\n",
       "      <td>7</td>\n",
       "      <td>0</td>\n",
       "      <td>-158.862074</td>\n",
       "      <td>175.131230</td>\n",
       "      <td>94.934196</td>\n",
       "    </tr>\n",
       "  </tbody>\n",
       "</table>\n",
       "</div>"
      ],
      "text/plain": [
       "   cycle  evt  finalstate  finalstateprong  interaction  lepenergy   nuenergy  \\\n",
       "0     15    1           8                1            0  32.837307  33.076805   \n",
       "1     15    1          12                3            2   0.986411   6.852915   \n",
       "2     15    1          13                3            2   0.631563   1.641000   \n",
       "3     15    1          46               11           13   2.768984  13.677229   \n",
       "4     15    1          49               13            0   1.848964   1.892379   \n",
       "\n",
       "   parent  particles  rec.training.trainingdata_idx    run  subevt  subrun  \\\n",
       "0       1         23                              0  12053       1       0   \n",
       "1       1         33                              0  12053       2       0   \n",
       "2       0         23                              0  12053       3       0   \n",
       "3       4         70                              0  12053       5       0   \n",
       "4       0        270                              0  12053       7       0   \n",
       "\n",
       "         vtxx        vtxy         vtxz  \n",
       "0  -76.117852  311.595491 -1757.971398  \n",
       "1  376.344346  232.187717   389.125703  \n",
       "2   47.172435 -161.841829   871.827338  \n",
       "3   28.927787  128.163077   726.942543  \n",
       "4 -158.862074  175.131230    94.934196  "
      ]
     },
     "execution_count": 12,
     "metadata": {},
     "output_type": "execute_result"
    }
   ],
   "source": [
    "label_df.head()"
   ]
  },
  {
   "cell_type": "code",
   "execution_count": 13,
   "metadata": {},
   "outputs": [
    {
     "data": {
      "text/plain": [
       "((62270, 16), (62270, 100, 80, 2))"
      ]
     },
     "execution_count": 13,
     "metadata": {},
     "output_type": "execute_result"
    }
   ],
   "source": [
    "label_df.shape, X.shape"
   ]
  },
  {
   "cell_type": "code",
   "execution_count": 14,
   "metadata": {},
   "outputs": [
    {
     "data": {
      "text/plain": [
       "0.0"
      ]
     },
     "execution_count": 14,
     "metadata": {},
     "output_type": "execute_result"
    }
   ],
   "source": [
    "np.min(X)"
   ]
  },
  {
   "cell_type": "code",
   "execution_count": 15,
   "metadata": {},
   "outputs": [
    {
     "data": {
      "text/plain": [
       "255.0"
      ]
     },
     "execution_count": 15,
     "metadata": {},
     "output_type": "execute_result"
    }
   ],
   "source": [
    "np.max(X)"
   ]
  },
  {
   "cell_type": "code",
   "execution_count": 16,
   "metadata": {},
   "outputs": [
    {
     "data": {
      "text/plain": [
       "cycle                              int32\n",
       "evt                               uint32\n",
       "finalstate                        uint32\n",
       "finalstateprong                   uint32\n",
       "interaction                       uint32\n",
       "lepenergy                        float32\n",
       "nuenergy                         float32\n",
       "parent                            uint32\n",
       "particles                         uint32\n",
       "rec.training.trainingdata_idx     uint32\n",
       "run                               uint32\n",
       "subevt                            uint16\n",
       "subrun                            uint32\n",
       "vtxx                             float64\n",
       "vtxy                             float64\n",
       "vtxz                             float64\n",
       "dtype: object"
      ]
     },
     "execution_count": 16,
     "metadata": {},
     "output_type": "execute_result"
    }
   ],
   "source": [
    "label_df.dtypes"
   ]
  },
  {
   "cell_type": "markdown",
   "metadata": {},
   "source": [
    "### 4. Normalise the images"
   ]
  },
  {
   "cell_type": "code",
   "execution_count": 17,
   "metadata": {},
   "outputs": [
    {
     "data": {
      "text/plain": [
       "(62270,)"
      ]
     },
     "execution_count": 17,
     "metadata": {},
     "output_type": "execute_result"
    }
   ],
   "source": [
    "maxX = np.max(X,axis = (1,2,3))\n",
    "maxX.shape"
   ]
  },
  {
   "cell_type": "code",
   "execution_count": 18,
   "metadata": {},
   "outputs": [
    {
     "data": {
      "text/plain": [
       "False"
      ]
     },
     "execution_count": 18,
     "metadata": {},
     "output_type": "execute_result"
    }
   ],
   "source": [
    "np.any(maxX ==0)"
   ]
  },
  {
   "cell_type": "code",
   "execution_count": 19,
   "metadata": {},
   "outputs": [],
   "source": [
    "maxX = maxX.reshape((-1,1,1,1))\n",
    "X = X/maxX"
   ]
  },
  {
   "cell_type": "markdown",
   "metadata": {},
   "source": [
    "### 5. Write a function that builds a Neural Network \n",
    "\n",
    "Throughout this notebook, several neural networks will be used. Even though most of them won't be featured in the final version of the project, it could be useful to write a function which creates a sequential model. "
   ]
  },
  {
   "cell_type": "code",
   "execution_count": 20,
   "metadata": {},
   "outputs": [],
   "source": [
    "def MyModel(input_shape,n_neurons, activations, conv=False, kernels= [(3,3)], \n",
    "             pooling_sizes = [(2,2)], n_conv = 1):\n",
    "    \n",
    "    '''This function creates a neural network. It can either be a dense network or a convolutional network. \n",
    "    '''\n",
    "    \n",
    "    #Create a sequential model \n",
    "    model = keras.models.Sequential() \n",
    "    \n",
    "    #convolutional layers if args are passed\n",
    "    if conv:\n",
    "        \n",
    "        #create the input layer\n",
    "        model.add(keras.layers.Conv2D( n_neurons[0], kernels[0], \n",
    "                                      activation = activations[0], input_shape = input_shape))\n",
    "        \n",
    "        #first pooling\n",
    "        model.add(keras.layers.MaxPooling2D( pooling_sizes[0]))\n",
    "       \n",
    "        \n",
    "        for i in range(n_conv-1):\n",
    "            \n",
    "            #convolutional layer\n",
    "            model.add(keras.layers.Conv2D(n_neurons[i], kernels[i], activation = activations[i]))\n",
    "            model.add(keras.layers.MaxPooling2D( pooling_sizes[i]))\n",
    "            \n",
    "            \n",
    "            \n",
    "        \n",
    "    #input layer (flatten the image)\n",
    "    model.add(keras.layers.Flatten(input_shape = input_shape))\n",
    "    \n",
    "    #hidden layers          \n",
    "    for j in range(len(n_neurons)- n_conv): \n",
    "        model.add(keras.layers.Dense(n_neurons[n_conv + j ], activation = activations[n_conv + j ]))\n",
    "\n",
    "    print(model.summary())\n",
    "    \n",
    "    return model"
   ]
  },
  {
   "cell_type": "markdown",
   "metadata": {},
   "source": [
    "## Machine Learning Tasks \n",
    "### 1. Develop a machine learning classifier that can successfully identify $\\nu_\\mu$ charged-current events\n",
    "\n",
    "#### Sub tasks\n",
    "\n",
    "\n",
    "* Get the labels. \n",
    "* Split the data.\n",
    "* Build a model/ decide the architecture.\n",
    "* Train the model. "
   ]
  },
  {
   "cell_type": "markdown",
   "metadata": {},
   "source": [
    "#### Get the labels\n",
    "\n",
    "For this task, we're only interested in identifying $\\mu_\\nu $ charged-current events in general and there are 3 different types of $\\mu_\\nu $ charged-current events. These correspond to values ```0,1,2,3``` in the ```interaction``` column. Since this is a binary classification task, we need to create a label array containing only 1s and 0s. In mathematical notation, we can write the function which maps the elements from ```interaction ```to the label array: $$\\forall x \\in S, y: S \\to \\{0,1\\}: \\begin{cases} y(x) = 1, \\mbox{ if } x \\leq 3 \\\\ y(x) = 0, \\mbox{ if } x > 3 \\end{cases} $$"
   ]
  },
  {
   "cell_type": "code",
   "execution_count": 21,
   "metadata": {},
   "outputs": [],
   "source": [
    "labels_idx = np.where(label_df.interaction <= 3)\n",
    "y = np.zeros(len(label_df.interaction))\n",
    "y[labels_idx] = 1\n",
    "y = y.astype(int32)"
   ]
  },
  {
   "cell_type": "code",
   "execution_count": 22,
   "metadata": {},
   "outputs": [
    {
     "data": {
      "text/plain": [
       "(62270,)"
      ]
     },
     "execution_count": 22,
     "metadata": {},
     "output_type": "execute_result"
    }
   ],
   "source": [
    "y.shape"
   ]
  },
  {
   "cell_type": "code",
   "execution_count": 23,
   "metadata": {},
   "outputs": [
    {
     "data": {
      "text/plain": [
       "0"
      ]
     },
     "execution_count": 23,
     "metadata": {},
     "output_type": "execute_result"
    }
   ],
   "source": [
    "np.min(y)"
   ]
  },
  {
   "cell_type": "code",
   "execution_count": 24,
   "metadata": {},
   "outputs": [
    {
     "data": {
      "text/plain": [
       "(array([ 7411.,     0.,     0.,     0.,     0.,     0.,     0.,     0.,\n",
       "            0., 54859.]),\n",
       " array([0. , 0.1, 0.2, 0.3, 0.4, 0.5, 0.6, 0.7, 0.8, 0.9, 1. ]),\n",
       " <a list of 10 Patch objects>)"
      ]
     },
     "execution_count": 24,
     "metadata": {},
     "output_type": "execute_result"
    },
    {
     "data": {
      "image/png": "[encoded data removed]",
      "text/plain": [
       "<Figure size 432x288 with 1 Axes>"
      ]
     },
     "metadata": {
      "needs_background": "light"
     },
     "output_type": "display_data"
    }
   ],
   "source": [
    "plt.hist(y)"
   ]
  },
  {
   "cell_type": "markdown",
   "metadata": {},
   "source": [
    "As expected the input dimensions are: $N \\times \\mathbf I$ and our label dimensions are $N  \\times 1$ \n",
    "\n",
    "#### Split the data"
   ]
  },
  {
   "cell_type": "code",
   "execution_count": 25,
   "metadata": {},
   "outputs": [],
   "source": [
    "X_train, X_test, y_train, y_test = train_test_split(X,y, test_size = 0.2, shuffle = True)"
   ]
  },
  {
   "cell_type": "code",
   "execution_count": 26,
   "metadata": {},
   "outputs": [
    {
     "data": {
      "text/plain": [
       "((49816, 100, 80, 2), (49816,))"
      ]
     },
     "execution_count": 26,
     "metadata": {},
     "output_type": "execute_result"
    }
   ],
   "source": [
    "X_train.shape, y_train.shape"
   ]
  },
  {
   "cell_type": "code",
   "execution_count": 27,
   "metadata": {},
   "outputs": [
    {
     "data": {
      "text/plain": [
       "(array([ 6011.,     0.,     0.,     0.,     0.,     0.,     0.,     0.,\n",
       "            0., 43805.]),\n",
       " array([0. , 0.1, 0.2, 0.3, 0.4, 0.5, 0.6, 0.7, 0.8, 0.9, 1. ]),\n",
       " <a list of 10 Patch objects>)"
      ]
     },
     "execution_count": 27,
     "metadata": {},
     "output_type": "execute_result"
    },
    {
     "data": {
      "image/png": "[encoded data removed]",
      "text/plain": [
       "<Figure size 432x288 with 1 Axes>"
      ]
     },
     "metadata": {
      "needs_background": "light"
     },
     "output_type": "display_data"
    }
   ],
   "source": [
    "plt.hist(y_train)"
   ]
  },
  {
   "cell_type": "code",
   "execution_count": 28,
   "metadata": {},
   "outputs": [],
   "source": [
    "X__train = X_train.reshape(49816,2,100,80)\n",
    "X1__train = X__train[:,0].reshape(49816, 100,80,1)\n",
    "X2__train = X__train[:,1].reshape(49816, 100,80,1)"
   ]
  },
  {
   "cell_type": "code",
   "execution_count": 29,
   "metadata": {},
   "outputs": [],
   "source": [
    "from tensorflow.keras import layers"
   ]
  },
  {
   "cell_type": "code",
   "execution_count": 31,
   "metadata": {},
   "outputs": [
    {
     "name": "stdout",
     "output_type": "stream",
     "text": [
      "Model: \"model\"\n",
      "__________________________________________________________________________________________________\n",
      "Layer (type)                    Output Shape         Param #     Connected to                     \n",
      "==================================================================================================\n",
      "xz_img (InputLayer)             [(None, 100, 80, 1)] 0                                            \n",
      "__________________________________________________________________________________________________\n",
      "yz_img (InputLayer)             [(None, 100, 80, 1)] 0                                            \n",
      "__________________________________________________________________________________________________\n",
      "conv2d_2 (Conv2D)               (None, 100, 80, 5)   50          xz_img[0][0]                     \n",
      "__________________________________________________________________________________________________\n",
      "conv2d_3 (Conv2D)               (None, 100, 80, 5)   50          yz_img[0][0]                     \n",
      "__________________________________________________________________________________________________\n",
      "max_pooling2d_2 (MaxPooling2D)  (None, 50, 40, 5)    0           conv2d_2[0][0]                   \n",
      "__________________________________________________________________________________________________\n",
      "max_pooling2d_3 (MaxPooling2D)  (None, 50, 40, 5)    0           conv2d_3[0][0]                   \n",
      "__________________________________________________________________________________________________\n",
      "flatten_2 (Flatten)             (None, 10000)        0           max_pooling2d_2[0][0]            \n",
      "__________________________________________________________________________________________________\n",
      "flatten_3 (Flatten)             (None, 10000)        0           max_pooling2d_3[0][0]            \n",
      "__________________________________________________________________________________________________\n",
      "concatenate_1 (Concatenate)     (None, 20000)        0           flatten_2[0][0]                  \n",
      "                                                                 flatten_3[0][0]                  \n",
      "__________________________________________________________________________________________________\n",
      "dense_1 (Dense)                 (None, 20)           400020      concatenate_1[0][0]              \n",
      "__________________________________________________________________________________________________\n",
      "dense_3 (Dense)                 (None, 1)            21          dense_1[0][0]                    \n",
      "==================================================================================================\n",
      "Total params: 400,141\n",
      "Trainable params: 400,141\n",
      "Non-trainable params: 0\n",
      "__________________________________________________________________________________________________\n"
     ]
    }
   ],
   "source": [
    "XZ_input = keras.Input( shape = (100,80,1), name = 'xz_img')\n",
    "YZ_input = keras.Input( shape = (100,80,1), name = 'yz_img')\n",
    "\n",
    "xz = layers.Conv2D(5, (3,3), activation = 'relu', padding= 'same')(XZ_input)\n",
    "xz = layers.MaxPooling2D((2,2))(xz)\n",
    "xz = layers.Flatten()(xz)\n",
    "\n",
    "yz = layers.Conv2D(5, (3,3), activation = 'relu', padding= 'same')(YZ_input)\n",
    "yz = layers.MaxPooling2D((2,2))(yz)\n",
    "yz = layers.Flatten()(yz)\n",
    "\n",
    "x = layers.concatenate([xz,yz])\n",
    "x = layers.Dense(20, activation = 'relu')(x)\n",
    "X = layers.Dense(5, activation = 'relu')(x)\n",
    "\n",
    "pred = layers.Dense(1, activation = 'sigmoid')(x)\n",
    "\n",
    "model = keras.Model(\n",
    "    inputs=[XZ_input, YZ_input],\n",
    "    outputs=[pred])\n",
    "model.summary()\n",
    "#keras.utils.plot_model(model, \"multi_input_and_output_model.png\", show_shapes=True)"
   ]
  },
  {
   "cell_type": "code",
   "execution_count": 33,
   "metadata": {},
   "outputs": [],
   "source": [
    "model.compile(optimizer= tf.keras.optimizers.Adam(learning_rate=0.001),\n",
    "          loss=tf.keras.losses.BinaryCrossentropy(from_logits=False),\n",
    "          metrics=['accuracy'])"
   ]
  },
  {
   "cell_type": "code",
   "execution_count": 34,
   "metadata": {},
   "outputs": [
    {
     "name": "stdout",
     "output_type": "stream",
     "text": [
      "Epoch 1/5\n",
      "499/499 [==============================] - 147s 292ms/step - loss: 0.3287 - accuracy: 0.8790\n",
      "Epoch 2/5\n",
      "499/499 [==============================] - 143s 286ms/step - loss: 0.3086 - accuracy: 0.8793\n",
      "Epoch 3/5\n",
      "499/499 [==============================] - 122s 244ms/step - loss: 0.2904 - accuracy: 0.8793\n",
      "Epoch 4/5\n",
      "499/499 [==============================] - 134s 268ms/step - loss: 0.2730 - accuracy: 0.8793\n",
      "Epoch 5/5\n",
      "499/499 [==============================] - 124s 248ms/step - loss: 0.2582 - accuracy: 0.8793\n"
     ]
    },
    {
     "data": {
      "text/plain": [
       "<keras.callbacks.History at 0x7fb99f684b50>"
      ]
     },
     "execution_count": 34,
     "metadata": {},
     "output_type": "execute_result"
    }
   ],
   "source": [
    "model.fit({'xz_img': X1__train, 'yz_img': X2__train},y_train, epochs = 5, batch_size = 100)"
   ]
  },
  {
   "cell_type": "code",
   "execution_count": null,
   "metadata": {},
   "outputs": [],
   "source": []
  },
  {
   "cell_type": "code",
   "execution_count": 35,
   "metadata": {},
   "outputs": [],
   "source": [
    "X__test = X_test.reshape(12454,2,100,80)\n",
    "X1__test = X__test[:,0].reshape(12454, 100,80,1)\n",
    "X2__test = X__test[:,1].reshape(12454, 100,80,1)"
   ]
  },
  {
   "cell_type": "code",
   "execution_count": null,
   "metadata": {},
   "outputs": [],
   "source": []
  },
  {
   "cell_type": "code",
   "execution_count": 36,
   "metadata": {},
   "outputs": [
    {
     "name": "stdout",
     "output_type": "stream",
     "text": [
      "390/390 [==============================] - 15s 36ms/step - loss: 0.2838 - accuracy: 0.8876\n"
     ]
    },
    {
     "data": {
      "text/plain": [
       "[0.2838153839111328, 0.8875862956047058]"
      ]
     },
     "execution_count": 36,
     "metadata": {},
     "output_type": "execute_result"
    }
   ],
   "source": [
    "model.evaluate([X1__test, X2__test], y_test)"
   ]
  },
  {
   "cell_type": "code",
   "execution_count": 37,
   "metadata": {},
   "outputs": [
    {
     "data": {
      "text/plain": [
       "((array([ True]), array([12454])),\n",
       " (array([False,  True]), array([ 1400, 11054])))"
      ]
     },
     "execution_count": 37,
     "metadata": {},
     "output_type": "execute_result"
    }
   ],
   "source": [
    "pred = model.predict([X1__test, X2__test])\n",
    "np.unique((pred > 0.5), return_counts = True), np.unique((y_test > 0.5), return_counts = True)"
   ]
  },
  {
   "cell_type": "code",
   "execution_count": 38,
   "metadata": {},
   "outputs": [],
   "source": [
    "New_test_idx = np.where(y_test == 0)\n",
    "new_Xt = X__test[New_test_idx]\n",
    "new_Yt = y_test[New_test_idx]\n",
    "\n",
    "X11__test = new_Xt[:,0].reshape(new_Xt.shape[0], 100,80,1)\n",
    "X22__test = new_Xt[:,1].reshape(new_Xt.shape[0], 100,80,1)"
   ]
  },
  {
   "cell_type": "code",
   "execution_count": 39,
   "metadata": {},
   "outputs": [
    {
     "name": "stdout",
     "output_type": "stream",
     "text": [
      "44/44 [==============================] - 1s 33ms/step - loss: 1.5614 - accuracy: 0.0000e+00\n"
     ]
    },
    {
     "data": {
      "text/plain": [
       "[1.5613515377044678, 0.0]"
      ]
     },
     "execution_count": 39,
     "metadata": {},
     "output_type": "execute_result"
    }
   ],
   "source": [
    "model.evaluate([X11__test, X22__test], new_Yt)"
   ]
  },
  {
   "cell_type": "code",
   "execution_count": 40,
   "metadata": {},
   "outputs": [],
   "source": [
    "majority_indices = np.where(y_train ==1)[0]\n",
    "minority_indices = np.where(y_train == 0)[0]"
   ]
  },
  {
   "cell_type": "code",
   "execution_count": 41,
   "metadata": {},
   "outputs": [],
   "source": [
    "random_majority_indices = np.random.choice(majority_indices,len(minority_indices), replace = False )"
   ]
  },
  {
   "cell_type": "code",
   "execution_count": 42,
   "metadata": {},
   "outputs": [],
   "source": [
    "under_sampling = np.concatenate([random_majority_indices, minority_indices])"
   ]
  },
  {
   "cell_type": "code",
   "execution_count": 43,
   "metadata": {},
   "outputs": [],
   "source": [
    "y_train = y_train[under_sampling]\n",
    "X_train = X_train[under_sampling]"
   ]
  },
  {
   "cell_type": "code",
   "execution_count": 44,
   "metadata": {},
   "outputs": [
    {
     "data": {
      "text/plain": [
       "(array([6011.,    0.,    0.,    0.,    0.,    0.,    0.,    0.,    0.,\n",
       "        6011.]),\n",
       " array([0. , 0.1, 0.2, 0.3, 0.4, 0.5, 0.6, 0.7, 0.8, 0.9, 1. ]),\n",
       " <a list of 10 Patch objects>)"
      ]
     },
     "execution_count": 44,
     "metadata": {},
     "output_type": "execute_result"
    },
    {
     "data": {
      "image/png": "[encoded data removed]",
      "text/plain": [
       "<Figure size 432x288 with 1 Axes>"
      ]
     },
     "metadata": {
      "needs_background": "light"
     },
     "output_type": "display_data"
    }
   ],
   "source": [
    "plt.hist(y_train)"
   ]
  },
  {
   "cell_type": "code",
   "execution_count": 45,
   "metadata": {},
   "outputs": [],
   "source": [
    "X__train = X_train.reshape(y_train.shape[0],2,100,80)\n",
    "X1__train = X__train[:,0].reshape(y_train.shape[0], 100,80,1)\n",
    "X2__train = X__train[:,1].reshape(y_train.shape[0], 100,80,1)"
   ]
  },
  {
   "cell_type": "code",
   "execution_count": 46,
   "metadata": {},
   "outputs": [
    {
     "name": "stdout",
     "output_type": "stream",
     "text": [
      "Epoch 1/5\n",
      "25/25 [==============================] - 41s 2s/step - loss: 0.5456 - accuracy: 0.6509 - val_loss: 0.3628 - val_accuracy: 0.7969\n",
      "Epoch 2/5\n",
      "25/25 [==============================] - 37s 1s/step - loss: 0.4954 - accuracy: 0.7768 - val_loss: 0.3626 - val_accuracy: 0.7736\n",
      "Epoch 3/5\n",
      "25/25 [==============================] - 38s 2s/step - loss: 0.4689 - accuracy: 0.8089 - val_loss: 0.4441 - val_accuracy: 0.7083\n",
      "Epoch 4/5\n",
      "25/25 [==============================] - 37s 2s/step - loss: 0.3913 - accuracy: 0.8289 - val_loss: 0.4087 - val_accuracy: 0.7688\n",
      "Epoch 5/5\n",
      "25/25 [==============================] - 43s 2s/step - loss: 0.3775 - accuracy: 0.8337 - val_loss: 0.4617 - val_accuracy: 0.7383\n"
     ]
    },
    {
     "data": {
      "text/plain": [
       "<keras.callbacks.History at 0x7fb885e78b90>"
      ]
     },
     "execution_count": 46,
     "metadata": {},
     "output_type": "execute_result"
    }
   ],
   "source": [
    "model.fit({'xz_img': X1__train, 'yz_img': X2__train},y_train, epochs = 5, batch_size = 500, validation_data = ([X1__test, X2__test], y_test))"
   ]
  }
 ],
 "metadata": {
  "kernelspec": {
   "display_name": "Python 3",
   "language": "python",
   "name": "python3"
  },
  "language_info": {
   "codemirror_mode": {
    "name": "ipython",
    "version": 3
   },
   "file_extension": ".py",
   "mimetype": "text/x-python",
   "name": "python",
   "nbconvert_exporter": "python",
   "pygments_lexer": "ipython3",
   "version": "3.7.7"
  }
 },
 "nbformat": 4,
 "nbformat_minor": 4
}
